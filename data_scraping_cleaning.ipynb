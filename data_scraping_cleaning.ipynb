{
 "cells": [
  {
   "cell_type": "markdown",
   "metadata": {},
   "source": [
    "# Google App Store - Exploratory Data Analysis\n",
    "\n",
    "Abhishek Chandran  \n",
    "abhishek.chandran@utah.edu  \n",
    "u1125771  \n",
    "\n",
    "Aniket Patil  \n",
    "aniket.patil@utah.edu  \n",
    "u1144414\n",
    "\n",
    "Akansha Toppo  \n",
    "u1137408@umail.utah.edu  \n",
    "u1137408\n",
    "\n",
    "Video : https://www.youtube.com/watch?v=S0kjamLC6yI"
   ]
  },
  {
   "cell_type": "markdown",
   "metadata": {},
   "source": [
    "# Data Scrape and Cleaning"
   ]
  },
  {
   "cell_type": "code",
   "execution_count": 5,
   "metadata": {
    "collapsed": true
   },
   "outputs": [],
   "source": [
    "# imports and setup \n",
    "from bs4 import BeautifulSoup\n",
    "# you can use either of these libraries to get html from a website\n",
    "import requests\n",
    "import urllib.request\n",
    "\n",
    "\n",
    "import pandas as pd\n",
    "import scipy as sc\n",
    "import numpy as np\n",
    "import requests\n",
    "import statsmodels.formula.api as sm\n",
    "\n",
    "import matplotlib.pyplot as plt \n",
    "plt.style.use('ggplot')\n",
    "%matplotlib inline  \n",
    "plt.rcParams['figure.figsize'] = (10, 6) \n",
    "import warnings\n",
    "warnings.filterwarnings(\"ignore\")"
   ]
  },
  {
   "cell_type": "code",
   "execution_count": null,
   "metadata": {},
   "outputs": [],
   "source": [
    "import time\n",
    "import json\n",
    "\n",
    "from selenium import webdriver\n",
    "from selenium.webdriver.common.keys import Keys\n",
    "\n",
    "urls = [\"https://play.google.com/store/apps/collection/recommended_for_you?clp=ogoGCAEqAggB%3AS%3AANO1ljLRwrE&hl=en\",\"https://play.google.com/store/apps/collection/cluster?clp=wgYaChYKEGNvbS5jYW52YS5lZGl0b3IQARgDGAE%3D:S:ANO1ljL-_W8\",\"https://play.google.com/store/apps/collection/promotion_3002599_daydream_appsyoushouldtry?clp=CjMKMQorcHJvbW90aW9uXzMwMDI1OTlfZGF5ZHJlYW1fYXBwc3lvdXNob3VsZHRyeRAHGAM%3D:S:ANO1ljJZodc\"\\\n",
    "        ,\"https://play.google.com/store/apps/collection/cluster?clp=wgYsCigKImNvbS5ydW5hd2F5cGxheS5mbHV0dGVydnIuZGF5ZHJlYW0QARgDGAE%3D:S:ANO1ljKYY8o\",\"https://play.google.com/store/apps/category/AUTO_AND_VEHICLES\"\\\n",
    "       ,\"https://play.google.com/store/apps/category/BEAUTY\",\"https://play.google.com/store/apps/category/BOOKS_AND_REFERENCE\",\"https://play.google.com/store/apps/collection/recommended_for_you_BUSINESS?clp=ygIMCghCVVNJTkVTUxAB:S:ANO1ljIBn5c\"\\\n",
    "       ,\"https://play.google.com/store/apps/collection/cluster?clp=wgYbChcKEWNvbS5tYXJ2ZWwuY29taWNzEAEYAxgB:S:ANO1ljKej2g\",\"https://play.google.com/store/apps/collection/recommended_for_you_COMMUNICATION?clp=ygIRCg1DT01NVU5JQ0FUSU9OEAE%3D:S:ANO1ljJIF4Y\"\\\n",
    "       ,\"https://play.google.com/store/apps/category/DATING/collection/topselling_free\",\"https://play.google.com/store/apps/collection/recommended_for_you_EDUCATION?clp=ygINCglFRFVDQVRJT04QAQ%3D%3D:S:ANO1ljLqr7c\"\\\n",
    "       ,\"https://play.google.com/store/apps/collection/promotion_3000269_watching_video?clp=SjcKJgogcHJvbW90aW9uXzMwMDAyNjlfd2F0Y2hpbmdfdmlkZW8QBxgDEg1FTlRFUlRBSU5NRU5U:S:ANO1ljI08iM\"\\\n",
    "       ,\"https://play.google.com/store/apps/collection/recommended_for_you_FINANCE?clp=ygILCgdGSU5BTkNFEAE%3D:S:ANO1ljJXYw0\",\"https://play.google.com/store/apps/collection/recommended_for_you_HEALTH_AND_FITNESS?clp=ygIWChJIRUFMVEhfQU5EX0ZJVE5FU1MQAQ%3D%3D:S:ANO1ljKVgyA\"\\\n",
    "       ,\"https://play.google.com/store/apps/collection/recommended_for_you_MUSIC_AND_AUDIO?clp=ygITCg9NVVNJQ19BTkRfQVVESU8QAQ%3D%3D:S:ANO1ljI3B5M\"\\\n",
    "       ,\"https://play.google.com/store/apps/collection/recommended_for_you_NEWS_AND_MAGAZINES?clp=ygIWChJORVdTX0FORF9NQUdBWklORVMQAQ%3D%3D:S:ANO1ljLkQKg\"\\\n",
    "       ,\"https://play.google.com/store/apps/collection/recommended_for_you_SHOPPING?clp=ygIMCghTSE9QUElORxAB:S:ANO1ljKgOi4\",\"https://play.google.com/store/apps/collection/recommended_for_you_SOCIAL?clp=ygIKCgZTT0NJQUwQAQ%3D%3D:S:ANO1ljLh4yw\"\\\n",
    "       ,\"https://play.google.com/store/apps/collection/recommended_for_you_SPORTS?clp=ygIKCgZTUE9SVFMQAQ%3D%3D:S:ANO1ljI-xws\",\"https://play.google.com/store/apps/collection/promotion_spring_break_2017?clp=SjUKIQobcHJvbW90aW9uX3NwcmluZ19icmVha18yMDE3EAcYAxIQVFJBVkVMX0FORF9MT0NBTA%3D%3D:S:ANO1ljLs78o\"\\\n",
    "       ,\"https://play.google.com/store/apps/collection/recommended_for_you_TRAVEL_AND_LOCAL?clp=ygIUChBUUkFWRUxfQU5EX0xPQ0FMEAE%3D:S:ANO1ljLxZqc\"\\\n",
    "       ,\"https://play.google.com/store/apps/collection/recommended_for_you_GAME_ACTION?clp=ygIPCgtHQU1FX0FDVElPThAB:S:ANO1ljJj-bc\",\"https://play.google.com/store/apps/collection/recommended_for_you_GAME_BOARD?clp=ygIOCgpHQU1FX0JPQVJEEAE%3D:S:ANO1ljJcSKo\"\\\n",
    "       ,\"https://play.google.com/store/apps/collection/recommended_for_you_GAME_SIMULATION?clp=ygITCg9HQU1FX1NJTVVMQVRJT04QAQ%3D%3D:S:ANO1ljJkNWQ\",\"https://play.google.com/store/apps/collection/recommended_for_you_GAME_STRATEGY?clp=ygIRCg1HQU1FX1NUUkFURUdZEAE%3D:S:ANO1ljL1Aqo\"\\\n",
    "       ,\"https://play.google.com/store/apps/collection/recommended_for_you_GAME_ADVENTURE?clp=ygISCg5HQU1FX0FEVkVOVFVSRRAB:S:ANO1ljL_cfM\",\"https://play.google.com/store/apps/collection/recommended_for_you_GAME_ARCADE?clp=ygIPCgtHQU1FX0FSQ0FERRAB:S:ANO1ljLO1E8\"\\\n",
    "       ,\"https://play.google.com/store/apps/collection/recommended_for_you_GAME_RACING?clp=ygIPCgtHQU1FX1JBQ0lORxAB:S:ANO1ljJ0QPc\",\"https://play.google.com/store/apps/collection/recommended_for_you_GAME_SPORTS?clp=ygIPCgtHQU1FX1NQT1JUUxAB:S:ANO1ljKG4WI\"\\\n",
    "       ,\"https://play.google.com/store/apps/category/EVENTS\",\"https://play.google.com/store/apps/collection/cluster?clp=wgYgChwKFmNvbS52aXZpZHNlYXRzLmFuZHJvaWQQARgDGAE%3D:S:ANO1ljLNH44\"\\\n",
    "       ,\"https://play.google.com/store/apps/collection/recommended_for_you_FOOD_AND_DRINK?clp=ygISCg5GT09EX0FORF9EUklOSxAB:S:ANO1ljLXDlU\",\"https://play.google.com/store/apps/collection/promotion_bd_17056246564224213512_food_ordering?clp=Sp8BCjUKL3Byb21vdGlvbl9iZF8xNzA1NjI0NjU2NDIyNDIxMzUxMl9mb29kX29yZGVyaW5nEAcYAxIORk9PRF9BTkRfRFJJTksaVgpQdG9wX3dlYl9mZWF0dXJlZF9GT09EX0FORF9EUklOS19hcHBzX1VTX19GT09EX0FORF9EUklOS18yX3Byb21vXzE0OTEzMjM5NjM2NTgwMDAQDBgD:S:ANO1ljJ2wzc\"\\\n",
    "       ,\"https://play.google.com/store/apps/collection/promotion_recipes_for_every_occasion?clp=SpQBCioKJHByb21vdGlvbl9yZWNpcGVzX2Zvcl9ldmVyeV9vY2Nhc2lvbhAHGAMSDkZPT0RfQU5EX0RSSU5LGlYKUHRvcF93ZWJfZmVhdHVyZWRfRk9PRF9BTkRfRFJJTktfYXBwc19VU19fRk9PRF9BTkRfRFJJTktfM19wcm9tb18xNDkxMzIzOTYzNjU4MDAwEAwYAw%3D%3D:S:ANO1ljIJBI8\"\\\n",
    "       ,\"https://play.google.com/store/apps/collection/promotion_grocery_apps?clp=Si4KHAoWcHJvbW90aW9uX2dyb2NlcnlfYXBwcxAHGAMSDkZPT0RfQU5EX0RSSU5L:S:ANO1ljLd2mU\"\\\n",
    "       ,\"https://play.google.com/store/apps/collection/promotion_30007ff_health_fitness?clp=SjwKJgogcHJvbW90aW9uXzMwMDA3ZmZfaGVhbHRoX2ZpdG5lc3MQBxgDEhJIRUFMVEhfQU5EX0ZJVE5FU1M%3D:S:ANO1ljJEbf8\"\\\n",
    "       ,\"https://play.google.com/store/apps/collection/cluster?clp=wgYgChwKFmNvbS5tYXBteWhpa2UuYW5kcm9pZDIQARgDGAE%3D:S:ANO1ljLblf4\",\"https://play.google.com/store/apps/collection/recommended_for_you_HOUSE_AND_HOME?clp=ygISCg5IT1VTRV9BTkRfSE9NRRAB:S:ANO1ljLMJOk\"\\\n",
    "       ,\"https://play.google.com/store/apps/collection/promotion_3002112_real_estate_rentals?clp=Sj0KKwolcHJvbW90aW9uXzMwMDIxMTJfcmVhbF9lc3RhdGVfcmVudGFscxAHGAMSDkhPVVNFX0FORF9IT01F:S:ANO1ljIKq2E\"\\\n",
    "       ,\"https://play.google.com/store/apps/collection/promotion_cp_manage_your_garden?clp=SjcKJQofcHJvbW90aW9uX2NwX21hbmFnZV95b3VyX2dhcmRlbhAHGAMSDkhPVVNFX0FORF9IT01F:S:ANO1ljIPyAY\"\\\n",
    "       ,\"https://play.google.com/store/apps/collection/promotion_home_decorate_design?clp=SjYKJAoecHJvbW90aW9uX2hvbWVfZGVjb3JhdGVfZGVzaWduEAcYAxIOSE9VU0VfQU5EX0hPTUU%3D:S:ANO1ljK9rhA\"\\\n",
    "       ,\"https://play.google.com/store/apps/collection/cluster?clp=wgYgChwKFmZyLmFudW1hbi5Ib21lRGVzaWduM0QQARgDGAE%3D:S:ANO1ljIQQUs\",\"https://play.google.com/store/apps/collection/cluster?clp=wgYfChsKFWNvbS5oZWNvcmF0LmF6cGx1Z2luMhABGAMYAQ%3D%3D:S:ANO1ljKpJPY\"\\\n",
    "       ,\"https://play.google.com/store/apps/collection/recommended_for_you_LIFESTYLE?clp=ygINCglMSUZFU1RZTEUQAQ%3D%3D:S:ANO1ljIOt9w\",\"https://play.google.com/store/apps/collection/promotion_bride_to_be?clp=SigKGwoVcHJvbW90aW9uX2JyaWRlX3RvX2JlEAcYAxIJTElGRVNUWUxF:S:ANO1ljKHVNY\"\\\n",
    "       ,\"https://play.google.com/store/apps/collection/promotion_30008e50_weddings_parties?clp=SjYKKQojcHJvbW90aW9uXzMwMDA4ZTUwX3dlZGRpbmdzX3BhcnRpZXMQBxgDEglMSUZFU1RZTEU%3D:S:ANO1ljImaFA\"\\\n",
    "       ,\"https://play.google.com/store/apps/collection/promotion_makeover_apps?clp=SioKHQoXcHJvbW90aW9uX21ha2VvdmVyX2FwcHMQBxgDEglMSUZFU1RZTEU%3D:S:ANO1ljKmjmM\"\\\n",
    "       ,\"https://play.google.com/store/apps/category/MAPS_AND_NAVIGATION\",\"https://play.google.com/store/apps/category/MEDICAL/collection/topselling_paid\"\\\n",
    "       ,\"https://play.google.com/store/apps/category/MEDICAL/collection/topselling_free\",\"https://play.google.com/store/apps/category/MEDICAL/collection/movers_shakers\"\\\n",
    "       ,\"https://play.google.com/store/apps/collection/cluster?clp=wgYkCiAKGmNvbS5jaG9yZW1vbnN0ZXIuY21hbmRyb2lkEAEYAxgB:S:ANO1ljIsrZE\",\"https://play.google.com/store/apps/collection/recommended_for_you_PERSONALIZATION?clp=ygITCg9QRVJTT05BTElaQVRJT04QAQ%3D%3D:S:ANO1ljKRKdI\"\\\n",
    "       ,\"https://play.google.com/store/apps/collection/promotion_m_4450984609577368703?clp=SjgKJQofcHJvbW90aW9uX21fNDQ1MDk4NDYwOTU3NzM2ODcwMxAHGAMSD1BFUlNPTkFMSVpBVElPTg%3D%3D:S:ANO1ljISotY\",\"https://play.google.com/store/apps/collection/promotion_m_12653649333280150766?clp=SjkKJgogcHJvbW90aW9uX21fMTI2NTM2NDkzMzMyODAxNTA3NjYQBxgDEg9QRVJTT05BTElaQVRJT04%3D:S:ANO1ljL4bag\"\\\n",
    "       ,\"https://play.google.com/store/apps/collection/promotion_3000111_live_wallpapers?clp=SjoKJwohcHJvbW90aW9uXzMwMDAxMTFfbGl2ZV93YWxscGFwZXJzEAcYAxIPUEVSU09OQUxJWkFUSU9O:S:ANO1ljLulT0\"\\\n",
    "       ,\"https://play.google.com/store/apps/collection/promotion_cp_enhance_your_selfie?clp=SjUKJgogcHJvbW90aW9uX2NwX2VuaGFuY2VfeW91cl9zZWxmaWUQBxgDEgtQSE9UT0dSQVBIWQ%3D%3D:S:ANO1ljJHylQ\"\\\n",
    "       ,\"https://play.google.com/store/apps/collection/recommended_for_you_PHOTOGRAPHY?clp=ygIPCgtQSE9UT0dSQVBIWRAB:S:ANO1ljJZKrM\",\"https://play.google.com/store/apps/collection/recommended_for_you_PRODUCTIVITY?clp=ygIQCgxQUk9EVUNUSVZJVFkQAQ%3D%3D:S:ANO1ljKF20U\"\\\n",
    "       ,\"https://play.google.com/store/apps/collection/promotion_3001bfb_cp_business_meetings?clp=SjwKLAomcHJvbW90aW9uXzMwMDFiZmJfY3BfYnVzaW5lc3NfbWVldGluZ3MQBxgDEgxQUk9EVUNUSVZJVFk%3D:S:ANO1ljINesc\"\\\n",
    "       ,\"https://play.google.com/store/apps/collection/promotion_3001bff_cp_productivity_file?clp=SjwKLAomcHJvbW90aW9uXzMwMDFiZmZfY3BfcHJvZHVjdGl2aXR5X2ZpbGUQBxgDEgxQUk9EVUNUSVZJVFk%3D:S:ANO1ljIS0g4\"\\\n",
    "       ,\"https://play.google.com/store/apps/collection/recommended_for_you_TOOLS?clp=ygIJCgVUT09MUxAB:S:ANO1ljIqlDA\",\"https://play.google.com/store/apps/collection/cluster?clp=wgYwCiwKJmNvbS5naXVtaWcuYXBwcy5ibHVldG9vdGhzZXJpYWxtb25pdG9yEAEYAxgB:S:ANO1ljIBE8s\"\\\n",
    "       ,\"https://play.google.com/store/apps/collection/promotion_3001bf7_cp_tools_wi_fi?clp=Si8KJgogcHJvbW90aW9uXzMwMDFiZjdfY3BfdG9vbHNfd2lfZmkQBxgDEgVUT09MUw%3D%3D:S:ANO1ljLGb6M\"\\\n",
    "       ,\"https://play.google.com/store/apps/collection/promotion_3001bf7_cp_tools_flashlights?clp=SjUKLAomcHJvbW90aW9uXzMwMDFiZjdfY3BfdG9vbHNfZmxhc2hsaWdodHMQBxgDEgVUT09MUw%3D%3D:S:ANO1ljITp1k\"\\\n",
    "       ,\"https://play.google.com/store/apps/collection/promotion_30004ca_wakey_wakey?clp=SiwKIwodcHJvbW90aW9uXzMwMDA0Y2Ffd2FrZXlfd2FrZXkQBxgDEgVUT09MUw%3D%3D:S:ANO1ljJtckw\"\\\n",
    "       ,\"https://play.google.com/store/apps/collection/recommended_for_you_VIDEO_PLAYERS?clp=ygIRCg1WSURFT19QTEFZRVJTEAE%3D:S:ANO1ljI6Sho\"\\\n",
    "       ,\"https://play.google.com/store/apps/collection/recommended_for_you_WEATHER?clp=ygILCgdXRUFUSEVSEAE%3D:S:ANO1ljKhWT8\",\"https://play.google.com/store/apps/collection/cluster?clp=wgYdChkKE2NvbS53ZWF0aGVyLldlYXRoZXIQARgDGAE%3D:S:ANO1ljIfqUg\"\\\n",
    "       ,\"https://play.google.com/store/apps/collection/recommended_for_you_recs_topic_ol1qv_m89hU_RECOMMENDED_IN_TOPIC?clp=ogokCAEaHAoWcmVjc190b3BpY19vbDFxdl9tODloVRA7GAMqAggB:S:ANO1ljIljbg\"] \n",
    "data = []\n",
    "browser = webdriver.Chrome(\"C:/Users/anike/Downloads/chromedriver.exe\")\n",
    "\n",
    "for url in urls:\n",
    "    try:\n",
    "        browser.get(url)\n",
    "        time.sleep(1)\n",
    "\n",
    "        elem = browser.find_element_by_tag_name(\"body\")\n",
    "\n",
    "        no_of_pagedowns = 50\n",
    "\n",
    "        while no_of_pagedowns:\n",
    "            elem.send_keys(Keys.PAGE_DOWN)\n",
    "            time.sleep(0.2)\n",
    "            no_of_pagedowns-=1\n",
    "\n",
    "        post_elems = browser.find_elements_by_class_name(\"card-click-target\")\n",
    "        #print post_elems[0].get_attribute('href')\n",
    "        for post in post_elems:\n",
    "            data.append(post.get_attribute('href'))\n",
    "    except Exception as e:\n",
    "        pass\n",
    "print(\"Total apps:\", len(data))\n",
    "with open('data_py.json','w') as output_file:\n",
    "    json.dump(data, output_file)"
   ]
  },
  {
   "cell_type": "code",
   "execution_count": null,
   "metadata": {},
   "outputs": [],
   "source": [
    "import time\n",
    "import json\n",
    "\n",
    "from selenium import webdriver\n",
    "from selenium.webdriver.common.keys import Keys\n",
    "urls = [\"https://play.google.com/store/apps/collection/recommended_for_you_GAME_CARD?clp=ygINCglHQU1FX0NBUkQQAQ%3D%3D:S:ANO1ljLGsj8\"\\\n",
    "       ,\"https://play.google.com/store/apps/collection/cluster?clp=wgYeChoKFGNvbS5zcGFjZWdhbWUuYmFzaWMzEAEYAxgB:S:ANO1ljJwwUk\"\\\n",
    "       ,\"https://play.google.com/store/apps/collection/cluster?clp=wgYtCikKI2NvbS5nYW1lbG9mdC5hbmRyb2lkLkFOTVAuR2xvZnRVT0hNEAEYAxgB:S:ANO1ljI0hR4\"\\\n",
    "       ,\"https://play.google.com/store/apps/collection/promotion_30009da_casino_lucky_numbers?clp=SjsKLAomcHJvbW90aW9uXzMwMDA5ZGFfY2FzaW5vX2x1Y2t5X251bWJlcnMQBxgDEgtHQU1FX0NBU0lOTw%3D%3D:S:ANO1ljIBZ8w\"\\\n",
    "       ,\"https://play.google.com/store/apps/collection/promotion_cp_slots?clp=SicKGAoScHJvbW90aW9uX2NwX3Nsb3RzEAcYAxILR0FNRV9DQVNJTk8%3D:S:ANO1ljKNx_Q\"\\\n",
    "       ,\"https://play.google.com/store/apps/collection/recommended_for_you_GAME_CASUAL?clp=ygIPCgtHQU1FX0NBU1VBTBAB:S:ANO1ljLHz2E\"\\\n",
    "       ,\"https://play.google.com/store/apps/collection/promotion_3001b0a_casualpuzzle_games?clp=SjkKKgokcHJvbW90aW9uXzMwMDFiMGFfY2FzdWFscHV6emxlX2dhbWVzEAcYAxILR0FNRV9DQVNVQUw%3D:S:ANO1ljJAwgo\"\\\n",
    "       ,\"https://play.google.com/store/apps/collection/recommended_for_you_GAME_EDUCATIONAL?clp=ygIUChBHQU1FX0VEVUNBVElPTkFMEAE%3D:S:ANO1ljJff_0\"\\\n",
    "       ,\"https://play.google.com/store/apps/collection/promotion_3000110_brain_teasers?clp=SjkKJQofcHJvbW90aW9uXzMwMDAxMTBfYnJhaW5fdGVhc2VycxAHGAMSEEdBTUVfRURVQ0FUSU9OQUw%3D:S:ANO1ljJOGPo\"\\\n",
    "       ,\"https://play.google.com/store/apps/collection/cluster?clp=wgYZChUKD2NvbS5xdWl6dXAuY29yZRABGAMYAQ%3D%3D:S:ANO1ljK8Its\"\\\n",
    "       ,\"https://play.google.com/store/apps/collection/promotion_3001ae5_premium_casual_games_cp?clp=Sj4KLwopcHJvbW90aW9uXzMwMDFhZTVfcHJlbWl1bV9jYXN1YWxfZ2FtZXNfY3AQBxgDEgtHQU1FX0NBU1VBTA%3D%3D:S:ANO1ljLf4_4\"\\\n",
    "       ,\"https://play.google.com/store/apps/collection/promotion_3000e58_memory_games?clp=SjgKJAoecHJvbW90aW9uXzMwMDBlNThfbWVtb3J5X2dhbWVzEAcYAxIQR0FNRV9FRFVDQVRJT05BTA%3D%3D:S:ANO1ljLhVww\"\\\n",
    "       ,\"https://play.google.com/store/apps/collection/cluster?clp=wgYhCh0KF2NvbS55b3VtdXNpYy5tYWdpY3RpbGVzEAEYAxgB:S:ANO1ljJTqgc\"\\\n",
    "       ,\"https://play.google.com/store/apps/collection/promotion_30019bb_games_soundtracks?clp=SjcKKQojcHJvbW90aW9uXzMwMDE5YmJfZ2FtZXNfc291bmR0cmFja3MQBxgDEgpHQU1FX01VU0lD:S:ANO1ljJZ5_0\"\\\n",
    "       ,\"https://play.google.com/store/apps/collection/recommended_for_you_GAME_ROLE_PLAYING?clp=ygIVChFHQU1FX1JPTEVfUExBWUlORxAB:S:ANO1ljLSws8\"\\\n",
    "       ,\"https://play.google.com/store/apps/collection/recommended_for_you_GAME_PUZZLE?clp=ygIPCgtHQU1FX1BVWlpMRRAB:S:ANO1ljILKSo\"\\\n",
    "       ,\"https://play.google.com/store/apps/collection/recommended_for_you_GAME_WORD?clp=ygINCglHQU1FX1dPUkQQAQ%3D%3D:S:ANO1ljLgdMU\"\\\n",
    "       ,\"https://play.google.com/store/apps/collection/cluster?clp=wgYjCh8KGWNvbS50b2NhYm9jYS50b2Nha2l0Y2hlbjIQARgDGAE%3D:S:ANO1ljKjyTg\"\\\n",
    "       ,\"https://play.google.com/store/apps/collection/promotion_30027ed_wearos_featured_apps_category?clp=SkUKNQovcHJvbW90aW9uXzMwMDI3ZWRfd2Vhcm9zX2ZlYXR1cmVkX2FwcHNfY2F0ZWdvcnkQBxgDEgxBTkRST0lEX1dFQVI%3D:S:ANO1ljLAGHo\"\\\n",
    "       ,\"https://play.google.com/store/apps/collection/cluster?clp=wgYhCh0KF2NvbS5zaWxsZW5zLnNoYXBldXBjbHViEAEYAxgB:S:ANO1ljKrYD4\"\\\n",
    "       ,\"https://play.google.com/store/apps/collection/promotion_30000e7_sports_apps_duplicate?clp=SjcKLQoncHJvbW90aW9uXzMwMDAwZTdfc3BvcnRzX2FwcHNfZHVwbGljYXRlEAcYAxIGU1BPUlRT:S:ANO1ljKdbRQ\"\\\n",
    "       ,\"https://play.google.com/store/apps/collection/promotion_mgc_mr_e__m_01p9yp?clp=SiwKIgoccHJvbW90aW9uX21nY19tcl9lX19tXzAxcDl5cBAHGAMSBlNQT1JUUw%3D%3D:S:ANO1ljLyLtw\"\\\n",
    "       ,\"https://play.google.com/store/apps/collection/cluster?clp=wgYfChsKFWNvbS5uYXZlci5saW5ld2VidG9vbhABGAMYAQ%3D%3D:S:ANO1ljI8P8E\"\\\n",
    "       ,\"https://play.google.com/store/apps/collection/cluster?clp=wgYWChIKDGNvbS50YXBhc3RpYxABGAMYAQ%3D%3D:S:ANO1ljI1Jog\"\\\n",
    "       ,\"https://play.google.com/store/apps/collection/promotion_3002599_daydream_appsyoushouldtry?clp=CjMKMQorcHJvbW90aW9uXzMwMDI1OTlfZGF5ZHJlYW1fYXBwc3lvdXNob3VsZHRyeRAHGAM%3D:S:ANO1ljJZodc\"\\\n",
    "       ,\"https://play.google.com/store/apps/collection/cluster?clp=wgYsCigKImNvbS5ydW5hd2F5cGxheS5mbHV0dGVydnIuZGF5ZHJlYW0QARgDGAE%3D:S:ANO1ljKYY8o\"] \n",
    "data = []\n",
    "browser = webdriver.Chrome(\"C:/Users/anike/Downloads/chromedriver.exe\")\n",
    "\n",
    "for url in urls: \n",
    "    browser.get(url)\n",
    "    time.sleep(1)\n",
    "\n",
    "    elem = browser.find_element_by_tag_name(\"body\")\n",
    "\n",
    "    no_of_pagedowns = 50\n",
    "\n",
    "    while no_of_pagedowns:\n",
    "        elem.send_keys(Keys.PAGE_DOWN)\n",
    "        time.sleep(0.2)\n",
    "        no_of_pagedowns-=1\n",
    "\n",
    "    post_elems = browser.find_elements_by_class_name(\"card-click-target\")\n",
    "    #print post_elems[0].get_attribute('href')\n",
    "    for post in post_elems:\n",
    "        data.append(post.get_attribute('href'))\n",
    "print(\"Total apps:\", len(data))\n",
    "with open('data_py1.json','w') as output_file:\n",
    "    json.dump(data, output_file)\n"
   ]
  },
  {
   "cell_type": "code",
   "execution_count": 303,
   "metadata": {},
   "outputs": [],
   "source": [
    "df=pd.read_json(\"data_py.json\")"
   ]
  },
  {
   "cell_type": "code",
   "execution_count": 304,
   "metadata": {},
   "outputs": [],
   "source": [
    "df2=pd.read_json(\"data_py1.json\")"
   ]
  },
  {
   "cell_type": "code",
   "execution_count": 305,
   "metadata": {},
   "outputs": [],
   "source": [
    "df1=df.drop_duplicates(keep='first')"
   ]
  },
  {
   "cell_type": "code",
   "execution_count": 306,
   "metadata": {},
   "outputs": [],
   "source": [
    "df2=df2.drop_duplicates(keep='first')"
   ]
  },
  {
   "cell_type": "code",
   "execution_count": 307,
   "metadata": {
    "collapsed": true
   },
   "outputs": [],
   "source": [
    "df_int=df1.append(df2)"
   ]
  },
  {
   "cell_type": "code",
   "execution_count": 308,
   "metadata": {},
   "outputs": [],
   "source": [
    "df=df_int.drop_duplicates(keep='first')"
   ]
  },
  {
   "cell_type": "code",
   "execution_count": 309,
   "metadata": {},
   "outputs": [],
   "source": [
    "df=df.reset_index()"
   ]
  },
  {
   "cell_type": "code",
   "execution_count": 310,
   "metadata": {},
   "outputs": [],
   "source": [
    "import urllib.request\n",
    "#import urllib2\n",
    "Free=[]\n",
    "App_Name=[]\n",
    "update_date=[]\n",
    "installs=[]\n",
    "Android_req=[]\n",
    "size=[]\n",
    "content_rating=[]\n",
    "ratings=[]\n",
    "categories=[]\n",
    "Editors_choice=[]\n",
    "five_star=[]\n",
    "four_star=[]\n",
    "three_star=[]\n",
    "two_star=[]\n",
    "one_star=[]\n",
    "for i in range(0,len(df)):\n",
    "    url = df[0][i]\n",
    "    soup=[]\n",
    "    try:\n",
    "        with urllib.request.urlopen(url) as response:\n",
    "            html = response.read()\n",
    "            html = html.decode('utf-8')\n",
    "            soup = BeautifulSoup(html, 'html.parser')\n",
    "            a=soup.find_all(class_=\"AHFaub\")\n",
    "            b=soup.find_all(class_=\"oocvOe\")\n",
    "            if len(b)==0:\n",
    "                Free.append(\"Install\")\n",
    "            else:\n",
    "                Free.append(b[0].find(\"button\").get_text())\n",
    "            App_Name.append(a[0].span.get_text())\n",
    "            a=soup.find_all(class_=\"BHMmbe\")\n",
    "            if len(a)==0:\n",
    "                ratings.append(np.nan)\n",
    "                five_star.append(np.nan)\n",
    "                four_star.append(np.nan)\n",
    "                three_star.append(np.nan)\n",
    "                two_star.append(np.nan)\n",
    "                one_star.append(np.nan)\n",
    "                Editors_choice.append(np.nan)\n",
    "                installs.append(np.nan)\n",
    "                update_date.append(np.nan)\n",
    "                size.append(np.nan)\n",
    "                Android_req.append(np.nan)\n",
    "                content_rating.append(np.nan)\n",
    "                categories.append(np.nan)\n",
    "            else:\n",
    "                ratings.append(a[0].get_text())\n",
    "                b=soup.find_all(class_=\"hAyfc\")\n",
    "                a=soup.find_all(class_=\"T32cc UAO9ie\")[1]\n",
    "                categories.append(a.get_text())\n",
    "                a=soup.find_all(class_=\"giozf\")\n",
    "                if len(a)==0:\n",
    "                    Editors_choice.append(0)\n",
    "                else:\n",
    "                    Editors_choice.append(1)\n",
    "                a=soup.find_all(class_=\"UfW5d\")\n",
    "                if len(a)==0:\n",
    "                    five_star.append(np.nan)\n",
    "                    four_star.append(np.nan)\n",
    "                    three_star.append(np.nan)\n",
    "                    two_star.append(np.nan)\n",
    "                    one_star.append(np.nan)\n",
    "                else:    \n",
    "                    five_star.append(a[0].get_text())\n",
    "                    if len(a)>1:\n",
    "                        four_star.append(a[1].get_text())\n",
    "                    else:\n",
    "                        four_star.append(0)\n",
    "                        \n",
    "                    if len(a)>2:\n",
    "                        three_star.append(a[2].get_text())\n",
    "                    else:\n",
    "                        three_star.append(0)\n",
    "                    if len(a)>3:\n",
    "                        two_star.append(a[3].get_text())\n",
    "                    else:\n",
    "                        two_star.append(0)\n",
    "                    if len(a)>4:\n",
    "                        one_star.append(a[4].get_text())\n",
    "                    else:\n",
    "                        one_star.append(0)\n",
    "                installs.append(b[2].span.get_text())\n",
    "                update_date.append(b[0].span.get_text())\n",
    "                size.append(b[1].span.get_text())\n",
    "                Android_req.append(b[4].span.get_text())\n",
    "                content_rating.append(b[5].span.get_text())\n",
    "    except urllib.request.HTTPError as err:\n",
    "        if err.code == 404:\n",
    "            pass\n",
    "        else:\n",
    "            raise"
   ]
  },
  {
   "cell_type": "code",
   "execution_count": 367,
   "metadata": {},
   "outputs": [],
   "source": [
    "d={\"App_Name\":App_Name,\"Ratings\":ratings,\"Categories\":categories,'Editors_choice':Editors_choice,\"Installs\":installs,\"content_rating\":content_rating,\"Size\":size,\"Version_req\":Android_req,\"Update_date\":update_date,\"five_star\":five_star,\"four_star\":four_star,\"three_star\":three_star,\"two_star\":two_star,\"one_star\":one_star,\"Free\":Free}"
   ]
  },
  {
   "cell_type": "code",
   "execution_count": 369,
   "metadata": {},
   "outputs": [],
   "source": [
    "d=pd.DataFrame(data=d)"
   ]
  },
  {
   "cell_type": "markdown",
   "metadata": {},
   "source": [
    "## Data Cleanup\n"
   ]
  },
  {
   "cell_type": "code",
   "execution_count": 371,
   "metadata": {},
   "outputs": [],
   "source": [
    "d1=d[np.isfinite(d[\"Editors_choice\"])]"
   ]
  },
  {
   "cell_type": "code",
   "execution_count": 372,
   "metadata": {},
   "outputs": [],
   "source": [
    "d1=d1.reset_index()"
   ]
  },
  {
   "cell_type": "code",
   "execution_count": 374,
   "metadata": {},
   "outputs": [
    {
     "data": {
      "text/plain": [
       "(8872, 15)"
      ]
     },
     "execution_count": 374,
     "metadata": {},
     "output_type": "execute_result"
    }
   ],
   "source": [
    "d1.shape"
   ]
  },
  {
   "cell_type": "code",
   "execution_count": 338,
   "metadata": {},
   "outputs": [],
   "source": [
    "for i in range(0,len(d1['content_rating'])):\n",
    "    if 'Teen' in d1['content_rating'][i]:\n",
    "        d1['content_rating'][i]=1\n",
    "    elif 'Everyone' in d1['content_rating'][i]:\n",
    "        d1['content_rating'][i]=0\n",
    "    elif 'Mature' in d1['content_rating'][i]:\n",
    "        d1['content_rating'][i]=2\n",
    "    else:\n",
    "        d1['content_rating'][i]=3"
   ]
  },
  {
   "cell_type": "code",
   "execution_count": 343,
   "metadata": {},
   "outputs": [],
   "source": [
    "for i in range(len(d1['Installs'])):\n",
    "    a=d1['Installs'][i]\n",
    "    if type(a) != int and '.' not in a :\n",
    "        if ',' not in a:\n",
    "            d1['Installs'][i]=np.nan\n",
    "        else:\n",
    "            a=(a.strip('+'))\n",
    "            d1['Installs'][i]=int(a.replace(\",\",''))\n",
    "        "
   ]
  },
  {
   "cell_type": "code",
   "execution_count": null,
   "metadata": {},
   "outputs": [],
   "source": [
    "a=d1[\"five_star\"].str.replace(',','')\n",
    "d1[\"five_star\"]=a.map(int)\n",
    "a=d1[\"four_star\"].str.replace(',','')\n",
    "d1[\"four_star\"]=a.map(float)\n",
    "a=d1[\"three_star\"].str.replace(',','')\n",
    "d1[\"three_star\"]=a.map(float)\n",
    "a=d1[\"two_star\"].str.replace(',','')\n",
    "d1[\"two_star\"]=a.map(float)\n",
    "a=d1[\"one_star\"].str.replace(',','')\n",
    "d1[\"one_star\"]=a.map(float)"
   ]
  },
  {
   "cell_type": "code",
   "execution_count": null,
   "metadata": {},
   "outputs": [],
   "source": [
    "d1.to_csv(\"Proj.csv\")"
   ]
  },
  {
   "cell_type": "code",
   "execution_count": 400,
   "metadata": {
    "collapsed": true
   },
   "outputs": [],
   "source": [
    "df=pd.read_csv(\"Proj.csv\",encoding='latin1',index_col=False)"
   ]
  },
  {
   "cell_type": "code",
   "execution_count": 401,
   "metadata": {
    "collapsed": true
   },
   "outputs": [],
   "source": [
    "for i in range(len(df[\"Installs\"])):\n",
    "    a=df['Installs'][i]\n",
    "    if type(a)==float :\n",
    "        b=df[\"Size\"][i]\n",
    "        if '+' in b:\n",
    "            c=(b.strip('+'))\n",
    "            df['Installs'][i]=int(c.replace(\",\",''))\n",
    "        else:\n",
    "            df['Installs'][i]=(10000)\n",
    "    elif '.' in a:\n",
    "        b=df[\"Size\"][i]\n",
    "        c=(b.strip('+'))\n",
    "        df['Installs'][i]=int(c.replace(\",\",''))"
   ]
  },
  {
   "cell_type": "code",
   "execution_count": 423,
   "metadata": {
    "collapsed": true
   },
   "outputs": [],
   "source": [
    "summ=[\"five_star\",\"four_star\",'three_star','two_star','one_star']\n",
    "df[\"Total_Reviews\"]=df[summ].sum(axis=1)"
   ]
  },
  {
   "cell_type": "code",
   "execution_count": null,
   "metadata": {},
   "outputs": [],
   "source": [
    "df.to_csv(\"proj2.csv\")"
   ]
  },
  {
   "cell_type": "code",
   "execution_count": null,
   "metadata": {},
   "outputs": [],
   "source": [
    "df=pd.read_csv(\"Proj.csv\",encoding='latin1',index_col=False)"
   ]
  },
  {
   "cell_type": "code",
   "execution_count": null,
   "metadata": {},
   "outputs": [],
   "source": [
    "for i in range(len(df[\"Free\"])):\n",
    "    a=df[\"Free\"][i]\n",
    "    if \"Install\" in a:\n",
    "        df[\"Free\"][i]=1\n",
    "    else:\n",
    "        df[\"Free\"][i]=0"
   ]
  },
  {
   "cell_type": "code",
   "execution_count": null,
   "metadata": {},
   "outputs": [],
   "source": [
    "df.to_csv(\"proj_final.csv\")"
   ]
  },
  {
   "cell_type": "code",
   "execution_count": 6,
   "metadata": {},
   "outputs": [],
   "source": [
    "df = pd.read_csv('proj_final.csv')"
   ]
  },
  {
   "cell_type": "code",
   "execution_count": 7,
   "metadata": {},
   "outputs": [
    {
     "data": {
      "text/html": [
       "<div>\n",
       "<style scoped>\n",
       "    .dataframe tbody tr th:only-of-type {\n",
       "        vertical-align: middle;\n",
       "    }\n",
       "\n",
       "    .dataframe tbody tr th {\n",
       "        vertical-align: top;\n",
       "    }\n",
       "\n",
       "    .dataframe thead th {\n",
       "        text-align: right;\n",
       "    }\n",
       "</style>\n",
       "<table border=\"1\" class=\"dataframe\">\n",
       "  <thead>\n",
       "    <tr style=\"text-align: right;\">\n",
       "      <th></th>\n",
       "      <th>App_Name</th>\n",
       "      <th>Categories</th>\n",
       "      <th>Editors_choice</th>\n",
       "      <th>Installs</th>\n",
       "      <th>Size</th>\n",
       "      <th>Update_date</th>\n",
       "      <th>Version_req</th>\n",
       "      <th>content_rating</th>\n",
       "      <th>five_star</th>\n",
       "      <th>four_star</th>\n",
       "      <th>one_star</th>\n",
       "      <th>three_star</th>\n",
       "      <th>two_star</th>\n",
       "      <th>Ratings</th>\n",
       "      <th>Total_Reviews</th>\n",
       "      <th>Free</th>\n",
       "    </tr>\n",
       "  </thead>\n",
       "  <tbody>\n",
       "    <tr>\n",
       "      <th>0</th>\n",
       "      <td>Facebook</td>\n",
       "      <td>Social</td>\n",
       "      <td>0</td>\n",
       "      <td>1000000000</td>\n",
       "      <td>Varies with device</td>\n",
       "      <td>16-Apr-18</td>\n",
       "      <td>Varies with device</td>\n",
       "      <td>1</td>\n",
       "      <td>45158823</td>\n",
       "      <td>11597763.0</td>\n",
       "      <td>9067114.0</td>\n",
       "      <td>6775595.0</td>\n",
       "      <td>3224758.0</td>\n",
       "      <td>4.1</td>\n",
       "      <td>75824053</td>\n",
       "      <td>1</td>\n",
       "    </tr>\n",
       "    <tr>\n",
       "      <th>1</th>\n",
       "      <td>Messenger ? Text and Video Chat for Free</td>\n",
       "      <td>Communication</td>\n",
       "      <td>1</td>\n",
       "      <td>1000000000</td>\n",
       "      <td>Varies with device</td>\n",
       "      <td>16-Apr-18</td>\n",
       "      <td>Varies with device</td>\n",
       "      <td>0</td>\n",
       "      <td>31721570</td>\n",
       "      <td>7920848.0</td>\n",
       "      <td>6964235.0</td>\n",
       "      <td>5116838.0</td>\n",
       "      <td>2227352.0</td>\n",
       "      <td>4.0</td>\n",
       "      <td>53950843</td>\n",
       "      <td>1</td>\n",
       "    </tr>\n",
       "    <tr>\n",
       "      <th>2</th>\n",
       "      <td>YouTube</td>\n",
       "      <td>Video Players &amp; Editors</td>\n",
       "      <td>1</td>\n",
       "      <td>1000000000</td>\n",
       "      <td>Varies with device</td>\n",
       "      <td>13-Apr-18</td>\n",
       "      <td>Varies with device</td>\n",
       "      <td>1</td>\n",
       "      <td>16270594</td>\n",
       "      <td>3265802.0</td>\n",
       "      <td>2104622.0</td>\n",
       "      <td>1589562.0</td>\n",
       "      <td>735239.0</td>\n",
       "      <td>4.3</td>\n",
       "      <td>23965819</td>\n",
       "      <td>1</td>\n",
       "    </tr>\n",
       "    <tr>\n",
       "      <th>3</th>\n",
       "      <td>Snapchat</td>\n",
       "      <td>Social</td>\n",
       "      <td>1</td>\n",
       "      <td>500000000</td>\n",
       "      <td>Varies with device</td>\n",
       "      <td>9-Apr-18</td>\n",
       "      <td>Varies with device</td>\n",
       "      <td>1</td>\n",
       "      <td>9809590</td>\n",
       "      <td>1966491.0</td>\n",
       "      <td>2223865.0</td>\n",
       "      <td>1304828.0</td>\n",
       "      <td>682436.0</td>\n",
       "      <td>4.0</td>\n",
       "      <td>15987210</td>\n",
       "      <td>1</td>\n",
       "    </tr>\n",
       "    <tr>\n",
       "      <th>4</th>\n",
       "      <td>Instagram</td>\n",
       "      <td>Social</td>\n",
       "      <td>1</td>\n",
       "      <td>1000000000</td>\n",
       "      <td>Varies with device</td>\n",
       "      <td>16-Apr-18</td>\n",
       "      <td>Varies with device</td>\n",
       "      <td>1</td>\n",
       "      <td>44757534</td>\n",
       "      <td>10188696.0</td>\n",
       "      <td>2380810.0</td>\n",
       "      <td>3422013.0</td>\n",
       "      <td>1150450.0</td>\n",
       "      <td>4.5</td>\n",
       "      <td>61899503</td>\n",
       "      <td>1</td>\n",
       "    </tr>\n",
       "  </tbody>\n",
       "</table>\n",
       "</div>"
      ],
      "text/plain": [
       "                                   App_Name               Categories  \\\n",
       "0                                  Facebook                   Social   \n",
       "1  Messenger ? Text and Video Chat for Free            Communication   \n",
       "2                                   YouTube  Video Players & Editors   \n",
       "3                                  Snapchat                   Social   \n",
       "4                                 Instagram                   Social   \n",
       "\n",
       "   Editors_choice    Installs                Size Update_date  \\\n",
       "0               0  1000000000  Varies with device   16-Apr-18   \n",
       "1               1  1000000000  Varies with device   16-Apr-18   \n",
       "2               1  1000000000  Varies with device   13-Apr-18   \n",
       "3               1   500000000  Varies with device    9-Apr-18   \n",
       "4               1  1000000000  Varies with device   16-Apr-18   \n",
       "\n",
       "          Version_req  content_rating  five_star   four_star   one_star  \\\n",
       "0  Varies with device               1   45158823  11597763.0  9067114.0   \n",
       "1  Varies with device               0   31721570   7920848.0  6964235.0   \n",
       "2  Varies with device               1   16270594   3265802.0  2104622.0   \n",
       "3  Varies with device               1    9809590   1966491.0  2223865.0   \n",
       "4  Varies with device               1   44757534  10188696.0  2380810.0   \n",
       "\n",
       "   three_star   two_star  Ratings  Total_Reviews  Free  \n",
       "0   6775595.0  3224758.0      4.1       75824053     1  \n",
       "1   5116838.0  2227352.0      4.0       53950843     1  \n",
       "2   1589562.0   735239.0      4.3       23965819     1  \n",
       "3   1304828.0   682436.0      4.0       15987210     1  \n",
       "4   3422013.0  1150450.0      4.5       61899503     1  "
      ]
     },
     "execution_count": 7,
     "metadata": {},
     "output_type": "execute_result"
    }
   ],
   "source": [
    "df.head()"
   ]
  }
 ],
 "metadata": {
  "kernelspec": {
   "display_name": "Python 2",
   "language": "python",
   "name": "python2"
  },
  "language_info": {
   "codemirror_mode": {
    "name": "ipython",
    "version": 2
   },
   "file_extension": ".py",
   "mimetype": "text/x-python",
   "name": "python",
   "nbconvert_exporter": "python",
   "pygments_lexer": "ipython2",
   "version": "2.7.14"
  }
 },
 "nbformat": 4,
 "nbformat_minor": 2
}
